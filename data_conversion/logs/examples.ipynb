{
 "cells": [
  {
   "cell_type": "code",
   "execution_count": 1,
   "metadata": {},
   "outputs": [],
   "source": [
    "# load json files by day and group into partquet files by month\n",
    "\n",
    "import json\n",
    "import pyarrow as pa\n",
    "from datetime import datetime\n",
    "from collections import defaultdict\n",
    "from pathlib import Path\n",
    "\n",
    "# Replace these with your folder paths\n",
    "input_json_folder = Path(\"/path/to/json-files/\")\n",
    "output_parquet_folder = Path(\"/path/to/parquet-files/\")\n",
    "\n",
    "# Get a list of all JSON files in the input folder\n",
    "json_files = list(input_json_folder.glob(\"*.json\"))\n",
    "\n",
    "# Create a dictionary to group JSON data by year and month\n",
    "grouped_data = defaultdict(list)\n",
    "\n",
    "# Initialize a PyArrow schema to match your JSON data structure\n",
    "# Example schema, you should define your own based on your data\n",
    "schema = pa.schema([\n",
    "    (\"date_column\", pa.string()),\n",
    "    # Add other columns and their data types as needed\n",
    "])\n",
    "\n",
    "# Create an empty PyArrow Table\n",
    "table = pa.Table.from_arrays([], schema=schema)\n",
    "\n",
    "# Iterate through JSON files and group data\n",
    "for json_file in json_files:\n",
    "    with open(json_file, \"r\") as file:\n",
    "        data = json.load(file)\n",
    "        date_str = data.get(\"date_column\")  # Replace with your actual date column name\n",
    "        if date_str:\n",
    "            date = datetime.strptime(date_str, \"%Y-%m-%d\")\n",
    "            year_month = date.strftime(\"%Y-%m\")\n",
    "            grouped_data[year_month].append(data)\n",
    "\n",
    "# Write the grouped data to Parquet files\n",
    "for year_month, data_list in grouped_data.items():\n",
    "    # Append the new data to the PyArrow Table\n",
    "    new_data = pa.Table.\n",
    "    table = pa.concat_tables([table, new_data])\n",
    "\n",
    "# Define the Parquet file path for this month\n",
    "parquet_file_path = output_parquet_folder / f\"{year_month}.parquet\"\n",
    "\n",
    "# Write the PyArrow Table to a Parquet file\n",
    "with pa.parquet.ParquetWriter(parquet_file_path, table.schema) as writer:\n",
    "    writer.write_table(table)\n"
   ]
  },
  {
   "cell_type": "code",
   "execution_count": null,
   "metadata": {},
   "outputs": [],
   "source": []
  }
 ],
 "metadata": {
  "kernelspec": {
   "display_name": ".venv",
   "language": "python",
   "name": "python3"
  },
  "language_info": {
   "codemirror_mode": {
    "name": "ipython",
    "version": 3
   },
   "file_extension": ".py",
   "mimetype": "text/x-python",
   "name": "python",
   "nbconvert_exporter": "python",
   "pygments_lexer": "ipython3",
   "version": "3.11.3"
  },
  "orig_nbformat": 4
 },
 "nbformat": 4,
 "nbformat_minor": 2
}
